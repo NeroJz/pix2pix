{
 "cells": [
  {
   "cell_type": "code",
   "execution_count": 11,
   "metadata": {},
   "outputs": [],
   "source": [
    "import torch\n",
    "import torch.nn as nn\n",
    "import numpy as np"
   ]
  },
  {
   "cell_type": "code",
   "execution_count": 58,
   "metadata": {},
   "outputs": [],
   "source": [
    "input_size = (1, 6, 256, 256)"
   ]
  },
  {
   "cell_type": "code",
   "execution_count": 59,
   "metadata": {},
   "outputs": [],
   "source": [
    "data = torch.empty(input_size).normal_(mean=0, std=0.5)\n",
    "# data2 = torch.empty(input_size).normal_(mean=0, std=0.5)\n",
    "\n",
    "# data = torch.cat((data1, data2), 2)\n",
    "\n",
    "# data.size()"
   ]
  },
  {
   "cell_type": "code",
   "execution_count": 156,
   "metadata": {},
   "outputs": [],
   "source": [
    "conv1 = nn.Conv2d(6, 64, kernel_size=4, padding=1, stride=2, bias=True)\n",
    "conv2 = nn.Conv2d(64, 128, kernel_size=4, padding=1, stride=2, bias=False)\n",
    "conv3 = nn.Conv2d(128, 256, kernel_size=4, padding=1, stride=2, bias=False)\n",
    "\n",
    "conv4 = nn.Conv2d(256, 512, kernel_size=4, padding=1, stride=1, bias=False)\n",
    "conv5 = nn.Conv2d(512, 1, kernel_size=4, padding=1, stride=1, bias=True)\n",
    "# conv6 = nn.Conv2d(512, 1, kernel_size=4, padding=1, stride=1, bias=True)"
   ]
  },
  {
   "cell_type": "code",
   "execution_count": 157,
   "metadata": {},
   "outputs": [],
   "source": [
    "output1 = conv1(data)\n",
    "output2 = conv2(output1)\n",
    "output3 = conv3(output2)\n",
    "output4 = conv4(output3)\n",
    "output5 = conv5(output4)\n",
    "# output6 = conv6(output5)"
   ]
  },
  {
   "cell_type": "code",
   "execution_count": 158,
   "metadata": {},
   "outputs": [
    {
     "name": "stdout",
     "output_type": "stream",
     "text": [
      "torch.Size([1, 64, 128, 128])\n",
      "torch.Size([1, 128, 64, 64])\n",
      "torch.Size([1, 256, 32, 32])\n",
      "torch.Size([1, 512, 31, 31])\n",
      "torch.Size([1, 1, 30, 30])\n"
     ]
    }
   ],
   "source": [
    "print(output1.shape)\n",
    "print(output2.shape)\n",
    "print(output3.shape)\n",
    "print(output4.shape)\n",
    "print(output5.shape)\n",
    "# print(output6.shape)"
   ]
  },
  {
   "cell_type": "code",
   "execution_count": 180,
   "metadata": {},
   "outputs": [],
   "source": [
    "conv1 = nn.Conv2d(6, 64, kernel_size=4, padding=1, stride=2, bias=True)\n",
    "conv2 = nn.Conv2d(64, 128, kernel_size=4, padding=1, stride=2, bias=False)\n",
    "conv3 = nn.Conv2d(128, 256, kernel_size=4, padding=1, stride=2, bias=False)\n",
    "conv4 = nn.Conv2d(256, 512, kernel_size=4, padding=1, stride=2, bias=False)\n",
    "conv5 = nn.Conv2d(512, 512, kernel_size=4, padding=3, stride=1, dilation= 2, bias=True)\n",
    "conv6 = nn.Conv2d(512, 1, kernel_size=4, padding=3, stride=1, dilation=2, bias=True)"
   ]
  },
  {
   "cell_type": "code",
   "execution_count": 181,
   "metadata": {},
   "outputs": [
    {
     "name": "stdout",
     "output_type": "stream",
     "text": [
      "torch.Size([1, 64, 128, 128])\n",
      "torch.Size([1, 128, 64, 64])\n",
      "torch.Size([1, 256, 32, 32])\n",
      "torch.Size([1, 512, 16, 16])\n",
      "torch.Size([1, 512, 16, 16])\n",
      "torch.Size([1, 1, 16, 16])\n"
     ]
    }
   ],
   "source": [
    "output1 = conv1(data)\n",
    "output2 = conv2(output1)\n",
    "output3 = conv3(output2)\n",
    "output4 = conv4(output3)\n",
    "output5 = conv5(output4)\n",
    "output6 = conv6(output5)\n",
    "\n",
    "print(output1.shape)\n",
    "print(output2.shape)\n",
    "print(output3.shape)\n",
    "print(output4.shape)\n",
    "print(output5.shape)\n",
    "print(output6.shape)"
   ]
  },
  {
   "cell_type": "code",
   "execution_count": 193,
   "metadata": {},
   "outputs": [],
   "source": [
    "input_size = (1, 16, 16)"
   ]
  },
  {
   "cell_type": "code",
   "execution_count": 194,
   "metadata": {},
   "outputs": [],
   "source": [
    "label = torch.ones(input_size)"
   ]
  },
  {
   "cell_type": "code",
   "execution_count": 187,
   "metadata": {},
   "outputs": [],
   "source": [
    "import torch.nn.functional as F"
   ]
  },
  {
   "cell_type": "code",
   "execution_count": 195,
   "metadata": {},
   "outputs": [],
   "source": [
    "output = F.sigmoid(output6)"
   ]
  },
  {
   "cell_type": "code",
   "execution_count": 197,
   "metadata": {},
   "outputs": [
    {
     "data": {
      "text/plain": [
       "torch.Size([1, 1, 16, 16])"
      ]
     },
     "execution_count": 197,
     "metadata": {},
     "output_type": "execute_result"
    }
   ],
   "source": [
    "output.size()"
   ]
  },
  {
   "cell_type": "code",
   "execution_count": 199,
   "metadata": {},
   "outputs": [],
   "source": [
    "diff = label - output"
   ]
  },
  {
   "cell_type": "code",
   "execution_count": 200,
   "metadata": {},
   "outputs": [
    {
     "data": {
      "text/plain": [
       "torch.Size([1, 1, 16, 16])"
      ]
     },
     "execution_count": 200,
     "metadata": {},
     "output_type": "execute_result"
    }
   ],
   "source": [
    "diff.size()"
   ]
  },
  {
   "cell_type": "code",
   "execution_count": null,
   "metadata": {},
   "outputs": [],
   "source": []
  },
  {
   "cell_type": "code",
   "execution_count": null,
   "metadata": {},
   "outputs": [],
   "source": []
  },
  {
   "cell_type": "code",
   "execution_count": null,
   "metadata": {},
   "outputs": [],
   "source": []
  },
  {
   "cell_type": "code",
   "execution_count": null,
   "metadata": {},
   "outputs": [],
   "source": []
  }
 ],
 "metadata": {
  "kernelspec": {
   "display_name": "Python 3",
   "language": "python",
   "name": "python3"
  },
  "language_info": {
   "codemirror_mode": {
    "name": "ipython",
    "version": 3
   },
   "file_extension": ".py",
   "mimetype": "text/x-python",
   "name": "python",
   "nbconvert_exporter": "python",
   "pygments_lexer": "ipython3",
   "version": "3.6.10"
  }
 },
 "nbformat": 4,
 "nbformat_minor": 4
}
